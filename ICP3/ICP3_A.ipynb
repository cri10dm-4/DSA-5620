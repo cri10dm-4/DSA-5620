{
  "nbformat": 4,
  "nbformat_minor": 0,
  "metadata": {
    "colab": {
      "provenance": [],
      "authorship_tag": "ABX9TyNsgGRDmGS7isvXes/QKzfN",
      "include_colab_link": true
    },
    "kernelspec": {
      "name": "python3",
      "display_name": "Python 3"
    },
    "language_info": {
      "name": "python"
    }
  },
  "cells": [
    {
      "cell_type": "markdown",
      "metadata": {
        "id": "view-in-github",
        "colab_type": "text"
      },
      "source": [
        "<a href=\"https://colab.research.google.com/github/cri10dm-4/DSA-5620/blob/main/ICP3/ICP3_A.ipynb\" target=\"_parent\"><img src=\"https://colab.research.google.com/assets/colab-badge.svg\" alt=\"Open In Colab\"/></a>"
      ]
    },
    {
      "cell_type": "code",
      "execution_count": null,
      "metadata": {
        "id": "RueIEWiL-EPa"
      },
      "outputs": [],
      "source": [
        "import numpy as np"
      ]
    },
    {
      "cell_type": "markdown",
      "source": [
        "# a."
      ],
      "metadata": {
        "id": "DX3DWrI9FAZj"
      }
    },
    {
      "cell_type": "code",
      "source": [
        "# Using NumPy create random vector of size 15 having only Integers in the range 1-20.\n",
        "a = np.random.randint(1, 20, 15)\n",
        "print(\"Array:\\n\", a)\n",
        "\n",
        "# 1. Reshape the array to 3 by 5\n",
        "a_reshaped = a.reshape(3, 5)\n",
        "print(\"Array:\\n\", a_reshaped)\n",
        "\n",
        "# 2. Print array shape.\n",
        "print(\"Shape:\\n\", a_reshaped.shape)\n",
        "\n",
        "# 3. Replace the max in each row by 0\n",
        "for i in range(a_reshaped.shape[0]):\n",
        "    row_max_index = a_reshaped[i].argmax()\n",
        "    a_reshaped[i, row_max_index] = 0\n",
        "\n",
        "print(\"Modified Array:\\n\", a_reshaped)"
      ],
      "metadata": {
        "colab": {
          "base_uri": "https://localhost:8080/"
        },
        "id": "EcLqPweaD-vL",
        "outputId": "57bd2484-801a-4a84-97b4-99c4cb286c7a"
      },
      "execution_count": null,
      "outputs": [
        {
          "output_type": "stream",
          "name": "stdout",
          "text": [
            "Array:\n",
            " [17 13  1 16 10  4 11 10  6 19 13  6  3 16 18]\n",
            "Array:\n",
            " [[17 13  1 16 10]\n",
            " [ 4 11 10  6 19]\n",
            " [13  6  3 16 18]]\n",
            "Shape:\n",
            " (3, 5)\n",
            "Modified Array:\n",
            " [[ 0 13  1 16 10]\n",
            " [ 4 11 10  6  0]\n",
            " [13  6  3 16  0]]\n"
          ]
        }
      ]
    },
    {
      "cell_type": "markdown",
      "source": [
        "# b."
      ],
      "metadata": {
        "id": "xRUtjTBkFQi3"
      }
    },
    {
      "cell_type": "code",
      "source": [
        "# Create a 2-dimensional array of size 4 x 3 (composed of 4-byte integer elements), also print the shape, type and data type of the array.\n",
        "b = np.random.randint(0, 100, size=(4, 3), dtype=np.int32)\n",
        "print(\"Array:\\n\", b)\n",
        "print(\"Shape:\\n\", b.shape)\n",
        "print(\"Type:\\n\", type(b))\n",
        "print(\"Data type:\\n\", b.dtype)"
      ],
      "metadata": {
        "colab": {
          "base_uri": "https://localhost:8080/"
        },
        "id": "vCouTJgkD-1a",
        "outputId": "c47fdf92-2a7e-48b9-bf0c-41110dfcab4f"
      },
      "execution_count": null,
      "outputs": [
        {
          "output_type": "stream",
          "name": "stdout",
          "text": [
            "Array:\n",
            " [[20 99 42]\n",
            " [ 3 32  0]\n",
            " [78 54  4]\n",
            " [70 17  6]]\n",
            "Shape:\n",
            " (4, 3)\n",
            "Type:\n",
            " <class 'numpy.ndarray'>\n",
            "Data type:\n",
            " int32\n"
          ]
        }
      ]
    },
    {
      "cell_type": "markdown",
      "source": [
        "# c."
      ],
      "metadata": {
        "id": "3NFBZZXxFaWR"
      }
    },
    {
      "cell_type": "code",
      "source": [
        "# Write a program to compute the eigenvalues and right eigenvectors of a given square array given below:\n",
        "# [[ 3 -2]\n",
        "# [ 1 0]]\n",
        "c = np.array([[3, -2],\n",
        "              [1,  0]])\n",
        "eigenvalues, eigenvectors = np.linalg.eig(c)\n",
        "print(\"Array:\\n\", c)\n",
        "print(\"Eigenvalues:\\n\", eigenvalues)\n",
        "print(\"Right Eigenvectors:\\n\", eigenvectors)"
      ],
      "metadata": {
        "colab": {
          "base_uri": "https://localhost:8080/"
        },
        "id": "1Fa4cCFhD-4l",
        "outputId": "3006c221-3ac0-4f44-9af3-d84729bf6ce5"
      },
      "execution_count": null,
      "outputs": [
        {
          "output_type": "stream",
          "name": "stdout",
          "text": [
            "Array:\n",
            " [[ 3 -2]\n",
            " [ 1  0]]\n",
            "Eigenvalues:\n",
            " [2. 1.]\n",
            "Right Eigenvectors:\n",
            " [[0.89442719 0.70710678]\n",
            " [0.4472136  0.70710678]]\n"
          ]
        }
      ]
    },
    {
      "cell_type": "markdown",
      "source": [
        "# d."
      ],
      "metadata": {
        "id": "NzFiID6nFbJ1"
      }
    },
    {
      "cell_type": "code",
      "source": [
        "# Compute the sum of the diagonal element of a given array.\n",
        "# [[0 1 2]\n",
        "# [3 4 5]]\n",
        "d = np.array([[0, 1, 2], [3, 4, 5]])\n",
        "print(\"Array:\\n\", d)\n",
        "diag_sum = np.trace(d)\n",
        "print(\"Sum of diagonal elements:\\n\", diag_sum)"
      ],
      "metadata": {
        "colab": {
          "base_uri": "https://localhost:8080/"
        },
        "id": "3yY1gblvD-7B",
        "outputId": "66c91787-4346-4387-953e-afc7f04e5bc1"
      },
      "execution_count": null,
      "outputs": [
        {
          "output_type": "stream",
          "name": "stdout",
          "text": [
            "Array:\n",
            " [[0 1 2]\n",
            " [3 4 5]]\n",
            "Sum of diagonal elements:\n",
            " 4\n"
          ]
        }
      ]
    },
    {
      "cell_type": "markdown",
      "source": [
        "# e."
      ],
      "metadata": {
        "id": "mY9kMPXtFcAF"
      }
    },
    {
      "cell_type": "code",
      "source": [
        "# Write a NumPy program to create a new shape to an array without changing its data.\n",
        "# Reshape 3x2:\n",
        "# [[1 2]\n",
        "# [3 4]\n",
        "# [5 6]]\n",
        "# Reshape 2x3: [[1 2 3]\n",
        "# [4 5 6]]\n",
        "\n",
        "e = np.array([[1, 2], [3, 4], [5, 6]])\n",
        "print(\"Array:\\n\", e)\n",
        "e_reshaped = e.reshape(2, 3)\n",
        "print(\"Reshaped 2x3:\\n\", e_reshaped)"
      ],
      "metadata": {
        "colab": {
          "base_uri": "https://localhost:8080/"
        },
        "id": "8fKN_t3DFcT8",
        "outputId": "1aacf705-7edf-4ae3-c44d-dd04c1b95eb1"
      },
      "execution_count": null,
      "outputs": [
        {
          "output_type": "stream",
          "name": "stdout",
          "text": [
            "Array:\n",
            " [[1 2]\n",
            " [3 4]\n",
            " [5 6]]\n",
            "Reshaped 2x3:\n",
            " [[1 2 3]\n",
            " [4 5 6]]\n"
          ]
        }
      ]
    }
  ]
}