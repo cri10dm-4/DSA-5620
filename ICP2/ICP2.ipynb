{
  "nbformat": 4,
  "nbformat_minor": 0,
  "metadata": {
    "colab": {
      "provenance": [],
      "authorship_tag": "ABX9TyPIdqrnIc99fq8DuI/Q4Y7O",
      "include_colab_link": true
    },
    "kernelspec": {
      "name": "python3",
      "display_name": "Python 3"
    },
    "language_info": {
      "name": "python"
    }
  },
  "cells": [
    {
      "cell_type": "markdown",
      "metadata": {
        "id": "view-in-github",
        "colab_type": "text"
      },
      "source": [
        "<a href=\"https://colab.research.google.com/github/cri10dm-4/DSA-5620/blob/main/ICP2/ICP2.ipynb\" target=\"_parent\"><img src=\"https://colab.research.google.com/assets/colab-badge.svg\" alt=\"Open In Colab\"/></a>"
      ]
    },
    {
      "cell_type": "markdown",
      "source": [
        "## **1**"
      ],
      "metadata": {
        "id": "siHDhckFIU9_"
      }
    },
    {
      "cell_type": "code",
      "execution_count": 1,
      "metadata": {
        "colab": {
          "base_uri": "https://localhost:8080/"
        },
        "id": "vcKQ9Zeo5ogA",
        "outputId": "f169065a-0684-4712-ca7d-dbd8868ca61d"
      },
      "outputs": [
        {
          "output_type": "stream",
          "name": "stdout",
          "text": [
            "Instance count: 2, class count: 3\n",
            "Instance count: 1, class count: 3\n"
          ]
        }
      ],
      "source": [
        "class Counter:\n",
        "    count = 0\n",
        "\n",
        "    def __init__(self):\n",
        "        self._count = 0\n",
        "\n",
        "    def increment(self):\n",
        "        self._count += 1\n",
        "        Counter.count += 1\n",
        "\n",
        "    def get_counts(self):\n",
        "        return f\"Instance count: {self._count}, class count: {Counter.count}\"\n",
        "\n",
        "a = Counter()\n",
        "b = Counter()\n",
        "\n",
        "a.increment()\n",
        "a.increment()\n",
        "b.increment()\n",
        "\n",
        "print(a.get_counts())\n",
        "print(b.get_counts())"
      ]
    },
    {
      "cell_type": "markdown",
      "source": [
        "• Explain the difference between Counter.count and self._count.\n",
        "\n",
        "Counter.count is considered as a  class variable and will be shared by all objects but self._count is considered as the variable of a specific object and will be effected only when the function is called by the specific object.\n",
        "\n",
        "• What is the output of a.get_counts() and b.get_counts()?\n",
        "\n",
        "Instance count: 2, class count: 3\n",
        "\n",
        "Instance count: 1, class count: 3\n",
        "\n",
        "• How does the increment method affect both the class and instance variables?\n",
        "\n",
        "Class Variable Count is incremented every time based the previous value irrespective of which object is used to call increment function.\n",
        "\n",
        "Instance Variable is incremented based on the previous value when it was incremented by that specific instance."
      ],
      "metadata": {
        "id": "bwuNYSFkIaSw"
      }
    },
    {
      "cell_type": "markdown",
      "source": [
        "## **2**"
      ],
      "metadata": {
        "id": "3vLOicKCJ6dW"
      }
    },
    {
      "cell_type": "code",
      "source": [
        "def sum_all(args):\n",
        "    return sum(args)\n",
        "\n",
        "print(\"Sum of 1, 2, 3 is:\", sum_all(1, 2, 3))\n",
        "print(\"Sum of 4, 5, 6, 7 is:\", sum_all(4, 5, 6, 7))"
      ],
      "metadata": {
        "colab": {
          "base_uri": "https://localhost:8080/",
          "height": 193
        },
        "id": "fR3Z9RlxB7gL",
        "outputId": "fe74ec9d-b8e9-4846-c458-096f9c642850"
      },
      "execution_count": 2,
      "outputs": [
        {
          "output_type": "error",
          "ename": "TypeError",
          "evalue": "sum_all() takes 1 positional argument but 3 were given",
          "traceback": [
            "\u001b[0;31m---------------------------------------------------------------------------\u001b[0m",
            "\u001b[0;31mTypeError\u001b[0m                                 Traceback (most recent call last)",
            "\u001b[0;32m/tmp/ipython-input-2-4138899186.py\u001b[0m in \u001b[0;36m<cell line: 0>\u001b[0;34m()\u001b[0m\n\u001b[1;32m      2\u001b[0m     \u001b[0;32mreturn\u001b[0m \u001b[0msum\u001b[0m\u001b[0;34m(\u001b[0m\u001b[0margs\u001b[0m\u001b[0;34m)\u001b[0m\u001b[0;34m\u001b[0m\u001b[0;34m\u001b[0m\u001b[0m\n\u001b[1;32m      3\u001b[0m \u001b[0;34m\u001b[0m\u001b[0m\n\u001b[0;32m----> 4\u001b[0;31m \u001b[0mprint\u001b[0m\u001b[0;34m(\u001b[0m\u001b[0;34m\"Sum of 1, 2, 3 is:\"\u001b[0m\u001b[0;34m,\u001b[0m \u001b[0msum_all\u001b[0m\u001b[0;34m(\u001b[0m\u001b[0;36m1\u001b[0m\u001b[0;34m,\u001b[0m \u001b[0;36m2\u001b[0m\u001b[0;34m,\u001b[0m \u001b[0;36m3\u001b[0m\u001b[0;34m)\u001b[0m\u001b[0;34m)\u001b[0m\u001b[0;34m\u001b[0m\u001b[0;34m\u001b[0m\u001b[0m\n\u001b[0m\u001b[1;32m      5\u001b[0m \u001b[0mprint\u001b[0m\u001b[0;34m(\u001b[0m\u001b[0;34m\"Sum of 4, 5, 6, 7 is:\"\u001b[0m\u001b[0;34m,\u001b[0m \u001b[0msum_all\u001b[0m\u001b[0;34m(\u001b[0m\u001b[0;36m4\u001b[0m\u001b[0;34m,\u001b[0m \u001b[0;36m5\u001b[0m\u001b[0;34m,\u001b[0m \u001b[0;36m6\u001b[0m\u001b[0;34m,\u001b[0m \u001b[0;36m7\u001b[0m\u001b[0;34m)\u001b[0m\u001b[0;34m)\u001b[0m\u001b[0;34m\u001b[0m\u001b[0;34m\u001b[0m\u001b[0m\n",
            "\u001b[0;31mTypeError\u001b[0m: sum_all() takes 1 positional argument but 3 were given"
          ]
        }
      ]
    },
    {
      "cell_type": "code",
      "source": [
        "#Fix 1\n",
        "def sum_all(args):\n",
        "    return sum(args)\n",
        "\n",
        "print(\"Sum of 1, 2, 3 is:\", sum_all([1, 2, 3])) # Make the parameters as list\n",
        "print(\"Sum of 4, 5, 6, 7 is:\", sum_all([4, 5, 6, 7]))"
      ],
      "metadata": {
        "colab": {
          "base_uri": "https://localhost:8080/"
        },
        "id": "Nm9EaBoLIHlO",
        "outputId": "c36d68da-0105-4173-a9f8-a7d0f8165fbf"
      },
      "execution_count": 3,
      "outputs": [
        {
          "output_type": "stream",
          "name": "stdout",
          "text": [
            "Sum of 1, 2, 3 is: 6\n",
            "Sum of 4, 5, 6, 7 is: 22\n"
          ]
        }
      ]
    },
    {
      "cell_type": "code",
      "source": [
        "#Fix 2\n",
        "def sum_all(*args): # Allow multiple parameters\n",
        "    return sum(args)\n",
        "\n",
        "print(\"Sum of 1, 2, 3 is:\", sum_all(1, 2, 3))\n",
        "print(\"Sum of 4, 5, 6, 7 is:\", sum_all(4, 5, 6, 7))"
      ],
      "metadata": {
        "colab": {
          "base_uri": "https://localhost:8080/"
        },
        "id": "qKT9zCveCA9l",
        "outputId": "3d241071-a5f4-4505-a10f-520c9f3a9b45"
      },
      "execution_count": 4,
      "outputs": [
        {
          "output_type": "stream",
          "name": "stdout",
          "text": [
            "Sum of 1, 2, 3 is: 6\n",
            "Sum of 4, 5, 6, 7 is: 22\n"
          ]
        }
      ]
    },
    {
      "cell_type": "markdown",
      "source": [
        "# **3**"
      ],
      "metadata": {
        "id": "nARYQ76LJ9yV"
      }
    },
    {
      "cell_type": "code",
      "source": [
        "\n",
        "students = ['Mary', 'Zelda', 'Jimmy', 'Jack', 'Bartholomew', 'Gertrude']\n",
        "\n",
        "def first_word(words):\n",
        "    sorted_words = sorted(words)\n",
        "    return sorted_words[0]\n",
        "\n",
        "print(first_word(students))\n"
      ],
      "metadata": {
        "colab": {
          "base_uri": "https://localhost:8080/"
        },
        "id": "MW1S9h6tDQT6",
        "outputId": "4b875ab8-a28c-4c17-d612-c85d3fc4ad87"
      },
      "execution_count": 5,
      "outputs": [
        {
          "output_type": "stream",
          "name": "stdout",
          "text": [
            "Bartholomew\n"
          ]
        }
      ]
    },
    {
      "cell_type": "markdown",
      "source": [
        "# **4**"
      ],
      "metadata": {
        "id": "tSmCMtaQKATG"
      }
    },
    {
      "cell_type": "markdown",
      "source": [
        "Create a class Employee"
      ],
      "metadata": {
        "id": "_SOpWa8APIC5"
      }
    },
    {
      "cell_type": "code",
      "source": [
        "class Employee:\n",
        "    pass"
      ],
      "metadata": {
        "id": "f95fnH6vG-h1"
      },
      "execution_count": 6,
      "outputs": []
    },
    {
      "cell_type": "markdown",
      "source": [
        "Create a data member to count the number of Employees"
      ],
      "metadata": {
        "id": "qIcc37deQkL9"
      }
    },
    {
      "cell_type": "code",
      "source": [
        "Employee.number_of_employees = 0"
      ],
      "metadata": {
        "id": "4s_P5ohCK0z5"
      },
      "execution_count": 7,
      "outputs": []
    },
    {
      "cell_type": "markdown",
      "source": [
        "Create a constructor to initialize name, family, salary, department"
      ],
      "metadata": {
        "id": "BCvBi_pGRs0i"
      }
    },
    {
      "cell_type": "code",
      "source": [
        "def __init__(self, name, family, salary, department):\n",
        "        self.name = name\n",
        "        self.family = family\n",
        "        self.salary = salary\n",
        "        self.department = department\n",
        "Employee.__init__ = __init__"
      ],
      "metadata": {
        "id": "LH_hz_xDLccf"
      },
      "execution_count": 8,
      "outputs": []
    },
    {
      "cell_type": "markdown",
      "source": [
        "Create a function to average salary"
      ],
      "metadata": {
        "id": "WdLTJOlVR9sI"
      }
    },
    {
      "cell_type": "code",
      "source": [
        "def average_salary(employees):\n",
        "    total = sum(emp.salary for emp in employees)\n",
        "    count = len(employees)\n",
        "    return total / count if count > 0 else 0\n",
        "\n",
        "Employee.average_salary = staticmethod(average_salary)"
      ],
      "metadata": {
        "id": "0aA70K9LL4XR"
      },
      "execution_count": 9,
      "outputs": []
    },
    {
      "cell_type": "markdown",
      "source": [
        "Create a Fulltime Employee class and it should inherit the properties of Employee class"
      ],
      "metadata": {
        "id": "k23OzuHfSC1e"
      }
    },
    {
      "cell_type": "code",
      "source": [
        "class FulltimeEmployee(Employee):\n",
        "    pass"
      ],
      "metadata": {
        "id": "d8k7GwKIMAam"
      },
      "execution_count": 10,
      "outputs": []
    },
    {
      "cell_type": "markdown",
      "source": [
        "Create the instances of Fulltime Employee class and Employee class and call their member functions"
      ],
      "metadata": {
        "id": "_qPRBkxtSEcs"
      }
    },
    {
      "cell_type": "code",
      "source": [
        "f1 = FulltimeEmployee(\"AAAA\", \"X\", 20000, \"1111\")\n",
        "f2 = FulltimeEmployee(\"BBBB\", \"X\", 40000, \"1111\")\n",
        "e1 = Employee(\"YYYY\", \"X\", 50000, \"22222\")\n",
        "e2 = Employee(\"ZZZZZ\", \"X\", 50000, \"2222\")\n",
        "\n",
        "\n",
        "print(Employee.average_salary([e1,e2]))\n",
        "print(FulltimeEmployee.average_salary([f1,f2]))"
      ],
      "metadata": {
        "colab": {
          "base_uri": "https://localhost:8080/"
        },
        "id": "xdCjJqfCMM3n",
        "outputId": "717aafb0-5e6a-4145-8f37-507198eb5f36"
      },
      "execution_count": 11,
      "outputs": [
        {
          "output_type": "stream",
          "name": "stdout",
          "text": [
            "50000.0\n",
            "30000.0\n"
          ]
        }
      ]
    }
  ]
}