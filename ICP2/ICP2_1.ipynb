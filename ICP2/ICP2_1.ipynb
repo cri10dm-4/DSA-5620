{
  "nbformat": 4,
  "nbformat_minor": 0,
  "metadata": {
    "colab": {
      "provenance": [],
      "authorship_tag": "ABX9TyNz0p0yYymFx6guhofvRGqm",
      "include_colab_link": true
    },
    "kernelspec": {
      "name": "python3",
      "display_name": "Python 3"
    },
    "language_info": {
      "name": "python"
    }
  },
  "cells": [
    {
      "cell_type": "markdown",
      "metadata": {
        "id": "view-in-github",
        "colab_type": "text"
      },
      "source": [
        "<a href=\"https://colab.research.google.com/github/cri10dm-4/DSA-5620/blob/main/ICP2/ICP2_1.ipynb\" target=\"_parent\"><img src=\"https://colab.research.google.com/assets/colab-badge.svg\" alt=\"Open In Colab\"/></a>"
      ]
    },
    {
      "cell_type": "code",
      "execution_count": 1,
      "metadata": {
        "colab": {
          "base_uri": "https://localhost:8080/"
        },
        "id": "jUUBCheu-Ify",
        "outputId": "9dc3d294-98d3-4ca4-9972-f91aa3746dd4"
      },
      "outputs": [
        {
          "output_type": "stream",
          "name": "stdout",
          "text": [
            "Instance count: 2, class count: 3\n",
            "Instance count: 1, class count: 3\n"
          ]
        }
      ],
      "source": [
        "class Counter:\n",
        "    count = 0\n",
        "\n",
        "    def __init__(self):\n",
        "        self._count = 0\n",
        "\n",
        "    def increment(self):\n",
        "        self._count += 1\n",
        "        Counter.count += 1\n",
        "\n",
        "    def get_counts(self):\n",
        "        return f\"Instance count: {self._count}, class count: {Counter.count}\"\n",
        "\n",
        "a = Counter()\n",
        "b = Counter()\n",
        "\n",
        "a.increment()\n",
        "a.increment()\n",
        "b.increment()\n",
        "\n",
        "print(a.get_counts())  # What will this print?\n",
        "print(b.get_counts())  # What will this print?"
      ]
    },
    {
      "cell_type": "markdown",
      "source": [
        "Explain the difference between Counter.count and self._count.\n",
        "\n",
        "Counter.count is a class variable. It is shared by all instances of the class. If you change Counter.count, it changes for every instance.\n",
        "\n",
        "self._count is an instance variable. Each object (like a or b) has its own separate _count value."
      ],
      "metadata": {
        "id": "zNENW2bTEbRH"
      }
    },
    {
      "cell_type": "markdown",
      "source": [
        "What is the output of a.get_counts() and b.get_counts()?\n",
        "\n",
        "print(a.get_counts())\n",
        "Output: Instance count: 2, class count: 3\n",
        "\n",
        "print(b.get_counts())\n",
        "Output: Instance count: 1, class count: 3"
      ],
      "metadata": {
        "id": "AAOc_TtWEhfj"
      }
    },
    {
      "cell_type": "markdown",
      "source": [
        "How does the increment method affect both the class and instance variables?\n",
        "When you call increment() on an object (e.g., a.increment()), it:\n",
        "\n",
        "Increases self._count (only for that object).\n",
        "\n",
        "Increases Counter.count (shared across all objects).\n",
        "\n",
        "So, every time increment() is called (no matter which object), the class variable Counter.count goes up by 1, but the instance variable self._count goes up only for that specific instance."
      ],
      "metadata": {
        "id": "MQjstld4Eg_b"
      }
    },
    {
      "cell_type": "code",
      "source": [
        "def sum_all(args):\n",
        "    return sum(args)\n",
        "\n",
        "print(\"Sum of 1, 2, 3 is:\", sum_all(1, 2, 3))\n",
        "print(\"Sum of 4, 5, 6, 7 is:\", sum_all(4, 5, 6, 7))"
      ],
      "metadata": {
        "id": "nCmlGohoEXNy"
      },
      "execution_count": null,
      "outputs": []
    },
    {
      "cell_type": "markdown",
      "source": [
        "Bug:\n",
        "The function definition should use *args instead of just args.\n",
        "\n",
        "*args allows the function to accept any number of arguments, not just one tuple/list."
      ],
      "metadata": {
        "id": "I9LzzdcnE7MT"
      }
    },
    {
      "cell_type": "code",
      "source": [
        "def sum_all(*args):\n",
        "    return sum(args)\n",
        "\n",
        "print(\"Sum of 1, 2, 3 is:\", sum_all(1, 2, 3))\n",
        "print(\"Sum of 4, 5, 6, 7 is:\", sum_all(4, 5, 6, 7))"
      ],
      "metadata": {
        "colab": {
          "base_uri": "https://localhost:8080/"
        },
        "id": "cLKoZdlYE--c",
        "outputId": "01287108-326d-43c1-da29-bd9794fb2eee"
      },
      "execution_count": 2,
      "outputs": [
        {
          "output_type": "stream",
          "name": "stdout",
          "text": [
            "Sum of 1, 2, 3 is: 6\n",
            "Sum of 4, 5, 6, 7 is: 22\n"
          ]
        }
      ]
    },
    {
      "cell_type": "code",
      "source": [
        "def first_word(word_list):\n",
        "    sorted_list = sorted(word_list)\n",
        "    return sorted_list[0]\n",
        "\n",
        "students = ['Mary', 'Zelda', 'Jimmy', 'Jack', 'Bartholomew', 'Gertrude']\n",
        "print(first_word(students))"
      ],
      "metadata": {
        "colab": {
          "base_uri": "https://localhost:8080/"
        },
        "id": "WU8UKVoSFIsj",
        "outputId": "7dfe8dba-4157-416a-a5d6-5555284d9dc9"
      },
      "execution_count": 3,
      "outputs": [
        {
          "output_type": "stream",
          "name": "stdout",
          "text": [
            "Bartholomew\n"
          ]
        }
      ]
    },
    {
      "cell_type": "markdown",
      "source": [
        "Create a class Employee and then do the following\n",
        "\n",
        "\n",
        "Create a data member to count the number of Employees\n",
        "\n",
        "\n",
        "Create a constructor to initialize name, family, salary, department\n",
        "\n",
        "\n",
        "Create a function to average salary\n",
        "\n",
        "\n",
        "Create a Fulltime Employee class and it should inherit the properties of Employee class\n",
        "\n",
        "\n",
        "Create the instances of Fulltime Employee class and Employee class and call their member functions"
      ],
      "metadata": {
        "id": "tUeKSbImFKPm"
      }
    },
    {
      "cell_type": "code",
      "source": [
        "class Employee:\n",
        "    employee_count = 0\n",
        "    total_salary = 0\n",
        "\n",
        "    def __init__(self, name, family, salary, department):\n",
        "        self.name = name\n",
        "        self.family = family\n",
        "        self.salary = salary\n",
        "        self.department = department\n",
        "\n",
        "    @staticmethod\n",
        "    def average_salary(employees):\n",
        "        Employee.employee_count = len(employees)\n",
        "        total = sum(emp.salary for emp in employees)\n",
        "        return total / Employee.employee_count if Employee.employee_count > 0 else 0\n",
        "\n",
        "class FulltimeEmployee(Employee):\n",
        "    def __init__(self, name, family, salary, department):\n",
        "        super().__init__(name, family, salary, department)\n",
        "\n",
        "\n",
        "e1 = Employee(\"John\", \"Smith\", 50000, \"IT\")\n",
        "e2 = Employee(\"Jane\", \"Doe\", 60000, \"HR\")\n",
        "f1 = FulltimeEmployee(\"Mike\", \"Brown\", 70000, \"Finance\")\n",
        "\n",
        "all_employees = [e1, e2, f1]\n",
        "print(\"Average Salary:\", Employee.average_salary(all_employees))\n",
        "print(\"Total Employees:\", Employee.employee_count)"
      ],
      "metadata": {
        "colab": {
          "base_uri": "https://localhost:8080/"
        },
        "id": "_9V0ZCBXFRBV",
        "outputId": "76b8eed3-c3e9-4a24-c071-7592bb7bde5b"
      },
      "execution_count": 8,
      "outputs": [
        {
          "output_type": "stream",
          "name": "stdout",
          "text": [
            "Average Salary: 60000.0\n",
            "Total Employees: 3\n"
          ]
        }
      ]
    }
  ]
}