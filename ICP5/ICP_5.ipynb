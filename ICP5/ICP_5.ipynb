{
  "nbformat": 4,
  "nbformat_minor": 0,
  "metadata": {
    "colab": {
      "provenance": [],
      "include_colab_link": true
    },
    "kernelspec": {
      "name": "python3",
      "display_name": "Python 3"
    },
    "language_info": {
      "name": "python"
    }
  },
  "cells": [
    {
      "cell_type": "markdown",
      "metadata": {
        "id": "view-in-github",
        "colab_type": "text"
      },
      "source": [
        "<a href=\"https://colab.research.google.com/github/cri10dm-4/DSA-5620/blob/main/ICP5/ICP_5.ipynb\" target=\"_parent\"><img src=\"https://colab.research.google.com/assets/colab-badge.svg\" alt=\"Open In Colab\"/></a>"
      ]
    },
    {
      "cell_type": "code",
      "execution_count": null,
      "metadata": {
        "id": "nSc3IOaQNQu2"
      },
      "outputs": [],
      "source": [
        "from sklearn.datasets import load_iris\n",
        "from sklearn.model_selection import GridSearchCV, train_test_split\n",
        "from sklearn.preprocessing import StandardScaler\n",
        "from sklearn.decomposition import PCA\n",
        "from sklearn.svm import SVC\n",
        "from sklearn.pipeline import Pipeline\n",
        "\n",
        "# 1. Load dataset\n",
        "X, y = load_iris(return_X_y=True)\n",
        "X_train, X_test, y_train, y_test = train_test_split(X, y, test_size=0.2, random_state=42)\n",
        "\n",
        "# 2. Create pipeline\n",
        "pipe = Pipeline([\n",
        "    ('scaler', StandardScaler()),\n",
        "    ('pca', PCA()),\n",
        "    ('classifier', SVC())\n",
        "])\n",
        "\n",
        "# 3. Define parameter grid\n",
        "param_grid = {\n",
        "    'pca__n_components': [2, 3],\n",
        "    'classifier__C': [0.1, 1, 10],\n",
        "    'classifier__kernel': ['linear', 'rbf']\n",
        "}\n",
        "\n",
        "# 4. GridSearchCV\n",
        "grid = GridSearchCV(pipe, param_grid)\n",
        "grid.fit(X_train, y_train)\n",
        "\n",
        "# 5. Results\n",
        "print(\"Best parameters found:\", grid.best_params_)\n",
        "print(\"Best cross-validation score: {:.2f}\".format(grid.best_score_))\n",
        "print(\"Test set score: {:.2f}\".format(grid.score(X_test, y_test)))\n"
      ]
    },
    {
      "cell_type": "markdown",
      "source": [
        "Check for 3 fold, 5 fold and 7 fold cross validation\n",
        "\n",
        "Replace classifier, SVC with RandomForestClassifier and LogisticRegression, Perceptron, knn .\n",
        "\n",
        "Update the param_grid accordingly (e.g., for RandomForestClassifier, use n_estimators, max_depth, etc.)\n",
        "\n",
        "Also replace Gridsearch with randomnsearch function.\n",
        "\n",
        "Relplace with with your own csv dataset using code below:"
      ],
      "metadata": {
        "id": "tqJp7J-jNbu6"
      }
    },
    {
      "cell_type": "code",
      "source": [
        "import pandas as pd\n",
        "\n",
        "data = pd.read_csv(\"your_dataset.csv\")\n",
        "X = data.drop(\"target_column\", axis=1)\n",
        "y = data[\"target_column\"]\n"
      ],
      "metadata": {
        "id": "aUipqQf8Pcao"
      },
      "execution_count": null,
      "outputs": []
    }
  ]
}