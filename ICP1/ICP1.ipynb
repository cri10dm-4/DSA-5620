{
  "nbformat": 4,
  "nbformat_minor": 0,
  "metadata": {
    "colab": {
      "provenance": [],
      "authorship_tag": "ABX9TyOvzi1A11qQ7GMlAC0A+dFl",
      "include_colab_link": true
    },
    "kernelspec": {
      "name": "python3",
      "display_name": "Python 3"
    },
    "language_info": {
      "name": "python"
    }
  },
  "cells": [
    {
      "cell_type": "markdown",
      "metadata": {
        "id": "view-in-github",
        "colab_type": "text"
      },
      "source": [
        "<a href=\"https://colab.research.google.com/github/cri10dm-4/DSA-5620/blob/main/ICP1/ICP1.ipynb\" target=\"_parent\"><img src=\"https://colab.research.google.com/assets/colab-badge.svg\" alt=\"Open In Colab\"/></a>"
      ]
    },
    {
      "cell_type": "markdown",
      "source": [
        "### **2**\n"
      ],
      "metadata": {
        "id": "jgg3qhKV81Fu"
      }
    },
    {
      "cell_type": "code",
      "source": [
        "from google.colab import drive\n",
        "drive.mount('/content/drive')"
      ],
      "metadata": {
        "colab": {
          "base_uri": "https://localhost:8080/"
        },
        "id": "JVreVDjd30d7",
        "outputId": "4ff84b82-fc41-40cd-f201-1b3fe20f7e59"
      },
      "execution_count": 3,
      "outputs": [
        {
          "output_type": "stream",
          "name": "stdout",
          "text": [
            "Mounted at /content/drive\n"
          ]
        }
      ]
    },
    {
      "cell_type": "markdown",
      "source": [
        "## **5**"
      ],
      "metadata": {
        "id": "s-oAzFej88b6"
      }
    },
    {
      "cell_type": "markdown",
      "source": [
        "## **a**"
      ],
      "metadata": {
        "id": "W2Ezqlu-9l5P"
      }
    },
    {
      "cell_type": "code",
      "source": [
        "s = input(\"Input the string: \")\n",
        "\n",
        "#python"
      ],
      "metadata": {
        "colab": {
          "base_uri": "https://localhost:8080/"
        },
        "id": "yWKC0HY05wRP",
        "outputId": "b0fc0e52-90fc-48fe-e03f-9431fb2dd05f"
      },
      "execution_count": 10,
      "outputs": [
        {
          "name": "stdout",
          "output_type": "stream",
          "text": [
            "Input the string: python\n"
          ]
        }
      ]
    },
    {
      "cell_type": "code",
      "source": [
        "s = s[:-2]\n",
        "s = s[::-1]\n",
        "print(s)"
      ],
      "metadata": {
        "colab": {
          "base_uri": "https://localhost:8080/"
        },
        "id": "OiHMFFWl5wZn",
        "outputId": "039bbcf9-16eb-42be-b914-b0f904aa366d"
      },
      "execution_count": 11,
      "outputs": [
        {
          "output_type": "stream",
          "name": "stdout",
          "text": [
            "htyp\n"
          ]
        }
      ]
    },
    {
      "cell_type": "markdown",
      "source": [
        "# **b**"
      ],
      "metadata": {
        "id": "h7vdD7lE96_j"
      }
    },
    {
      "cell_type": "code",
      "source": [
        "a = int(input(\"Enter first number: \"))\n",
        "b = int(input(\"Enter second number: \"))"
      ],
      "metadata": {
        "colab": {
          "base_uri": "https://localhost:8080/"
        },
        "id": "Mpn9B0z95whK",
        "outputId": "67dd9c7f-0839-453e-e851-4261eb8e5383"
      },
      "execution_count": 12,
      "outputs": [
        {
          "name": "stdout",
          "output_type": "stream",
          "text": [
            "Enter first number: 8\n",
            "Enter second number: 2\n"
          ]
        }
      ]
    },
    {
      "cell_type": "code",
      "source": [
        "print(\"Addition:\", a + b)\n",
        "print(\"Subtraction:\", a - b)\n",
        "print(\"Multiplication:\", a * b)\n",
        "if b != 0:\n",
        "    print(\"Division:\", a / b)"
      ],
      "metadata": {
        "colab": {
          "base_uri": "https://localhost:8080/"
        },
        "id": "LTZTIarM5wka",
        "outputId": "2b5a9208-59a7-48bc-bfdc-943d89048055"
      },
      "execution_count": 15,
      "outputs": [
        {
          "output_type": "stream",
          "name": "stdout",
          "text": [
            "Addition: 10\n",
            "Subtraction: 6\n",
            "Multiplication: 16\n",
            "Division: 4.0\n"
          ]
        }
      ]
    },
    {
      "cell_type": "markdown",
      "source": [
        "# **6**"
      ],
      "metadata": {
        "id": "fVKUaidO9_zE"
      }
    },
    {
      "cell_type": "code",
      "source": [
        "sentence = input(\"Enter a sentence with word python: \")\n",
        "\n",
        "#I love playing with python"
      ],
      "metadata": {
        "colab": {
          "base_uri": "https://localhost:8080/"
        },
        "id": "L-nEr9-o5wmy",
        "outputId": "d8682694-9b35-4e7e-ae25-1c970633622d"
      },
      "execution_count": 16,
      "outputs": [
        {
          "name": "stdout",
          "output_type": "stream",
          "text": [
            "Enter a sentence with word python: I love playing with python\n"
          ]
        }
      ]
    },
    {
      "cell_type": "code",
      "source": [
        "print(sentence.replace('python', 'pythons'))"
      ],
      "metadata": {
        "colab": {
          "base_uri": "https://localhost:8080/"
        },
        "id": "KHdVWkdQ-ROn",
        "outputId": "d7120669-415e-4087-889d-bea517a4a7e2"
      },
      "execution_count": 17,
      "outputs": [
        {
          "output_type": "stream",
          "name": "stdout",
          "text": [
            "I love playing with pythons\n"
          ]
        }
      ]
    },
    {
      "cell_type": "markdown",
      "source": [
        "# **7**"
      ],
      "metadata": {
        "id": "yn1CCk_X-M8w"
      }
    },
    {
      "cell_type": "code",
      "source": [
        "score = float(input(\"Enter your class score: \"))\n"
      ],
      "metadata": {
        "colab": {
          "base_uri": "https://localhost:8080/"
        },
        "id": "hhKXIVCO5wo2",
        "outputId": "6ac7d99e-2edf-4257-9d82-3231d8f9a84b"
      },
      "execution_count": 18,
      "outputs": [
        {
          "name": "stdout",
          "output_type": "stream",
          "text": [
            "Enter your class score: 90\n"
          ]
        }
      ]
    },
    {
      "cell_type": "code",
      "source": [
        "if score >= 90:\n",
        "    print(\"A\")\n",
        "elif score >= 80:\n",
        "    print(\"B\")\n",
        "elif score >= 70:\n",
        "    print(\"C\")\n",
        "elif score >= 60:\n",
        "    print(\"D\")\n",
        "else:\n",
        "    print(\"F\")"
      ],
      "metadata": {
        "colab": {
          "base_uri": "https://localhost:8080/"
        },
        "id": "5pNiII0u-ZCo",
        "outputId": "ab88bce8-c480-46e4-da72-f5b214d10d43"
      },
      "execution_count": 19,
      "outputs": [
        {
          "output_type": "stream",
          "name": "stdout",
          "text": [
            "A\n"
          ]
        }
      ]
    },
    {
      "cell_type": "markdown",
      "source": [
        "# **8**"
      ],
      "metadata": {
        "id": "qDPplm-5-hqP"
      }
    },
    {
      "cell_type": "code",
      "source": [
        "x = [23, 'Python', 23.98]\n",
        "types = [type(i) for i in x]\n",
        "print(x)\n",
        "print(types)"
      ],
      "metadata": {
        "colab": {
          "base_uri": "https://localhost:8080/"
        },
        "id": "T0UKQet65wqx",
        "outputId": "a037efc8-7553-41f1-9eb2-b7c192ef97ad"
      },
      "execution_count": 12,
      "outputs": [
        {
          "output_type": "stream",
          "name": "stdout",
          "text": [
            "[23, 'Python', 23.98]\n",
            "[<class 'int'>, <class 'str'>, <class 'float'>]\n"
          ]
        }
      ]
    },
    {
      "cell_type": "markdown",
      "source": [
        "# **9**"
      ],
      "metadata": {
        "id": "PfkTmzJv-qmE"
      }
    },
    {
      "cell_type": "code",
      "source": [
        "IT_companies = {'Facebook', 'Google', 'Microsoft', 'Apple', 'IBM', 'Oracle', 'Amazon'}\n",
        "A = {19, 22, 24, 20, 25, 26}\n",
        "B = {19, 22, 20, 25, 26, 24, 28, 27}\n",
        "age = [22, 19, 24, 25, 26, 24, 25, 24]"
      ],
      "metadata": {
        "id": "UiEOoPrR79lh"
      },
      "execution_count": 29,
      "outputs": []
    },
    {
      "cell_type": "code",
      "source": [
        "# Find the length of the set IT_companies\n",
        "print(len(IT_companies))"
      ],
      "metadata": {
        "colab": {
          "base_uri": "https://localhost:8080/"
        },
        "id": "3F-HNa4C79rz",
        "outputId": "4016ffb6-18c3-49a9-e901-2fa3fd3c3924"
      },
      "execution_count": 23,
      "outputs": [
        {
          "output_type": "stream",
          "name": "stdout",
          "text": [
            "7\n"
          ]
        }
      ]
    },
    {
      "cell_type": "code",
      "source": [
        "# Add 'OpenAI' to IT_companies\n",
        "IT_companies.add('OpenAI')\n",
        "print(IT_companies)"
      ],
      "metadata": {
        "colab": {
          "base_uri": "https://localhost:8080/"
        },
        "id": "vl6cg37p79v8",
        "outputId": "0629ccf4-83df-4ffa-dcec-8f8a301a8a13"
      },
      "execution_count": 30,
      "outputs": [
        {
          "output_type": "stream",
          "name": "stdout",
          "text": [
            "{'Google', 'IBM', 'Facebook', 'Microsoft', 'Apple', 'Amazon', 'Oracle', 'OpenAI'}\n"
          ]
        }
      ]
    },
    {
      "cell_type": "code",
      "source": [
        "# Insert multiple IT companies at once to the set IT_companies\n",
        "IT_companies.update({'ServiceNow', 'Adobe'})\n",
        "print(IT_companies)"
      ],
      "metadata": {
        "colab": {
          "base_uri": "https://localhost:8080/"
        },
        "id": "UPkc0q5o79y5",
        "outputId": "cb2f0cf6-61ff-4be6-f840-43fa9abcf140"
      },
      "execution_count": 31,
      "outputs": [
        {
          "output_type": "stream",
          "name": "stdout",
          "text": [
            "{'Google', 'IBM', 'ServiceNow', 'Amazon', 'Oracle', 'Facebook', 'Microsoft', 'Apple', 'Adobe', 'OpenAI'}\n"
          ]
        }
      ]
    },
    {
      "cell_type": "code",
      "source": [
        "# Remove one of the companies from IT_companies\n",
        "IT_companies.remove('Oracle')\n",
        "print(IT_companies)"
      ],
      "metadata": {
        "colab": {
          "base_uri": "https://localhost:8080/"
        },
        "id": "Mt4KmYf2791S",
        "outputId": "7d156e01-f751-4b01-ce9e-059fe10e50f1"
      },
      "execution_count": 32,
      "outputs": [
        {
          "output_type": "stream",
          "name": "stdout",
          "text": [
            "{'Google', 'IBM', 'ServiceNow', 'Amazon', 'Facebook', 'Microsoft', 'Apple', 'Adobe', 'OpenAI'}\n"
          ]
        }
      ]
    },
    {
      "cell_type": "code",
      "source": [
        "### What is the difference between remove and discard?"
      ],
      "metadata": {
        "id": "EnJCmE38C1EM"
      },
      "execution_count": null,
      "outputs": []
    },
    {
      "cell_type": "markdown",
      "source": [
        "remove() raises an error if the element is not present, discard() does not."
      ],
      "metadata": {
        "id": "MX2NRL88ClEV"
      }
    },
    {
      "cell_type": "code",
      "source": [
        "IT_companies.remove('Oracle')"
      ],
      "metadata": {
        "colab": {
          "base_uri": "https://localhost:8080/",
          "height": 141
        },
        "id": "1V9NxZX8CDNa",
        "outputId": "97522f95-6faf-45c5-a1ff-08fe51618fa8"
      },
      "execution_count": 34,
      "outputs": [
        {
          "output_type": "error",
          "ename": "KeyError",
          "evalue": "'Oracle'",
          "traceback": [
            "\u001b[0;31m---------------------------------------------------------------------------\u001b[0m",
            "\u001b[0;31mKeyError\u001b[0m                                  Traceback (most recent call last)",
            "\u001b[0;32m/tmp/ipython-input-34-990543140.py\u001b[0m in \u001b[0;36m<cell line: 0>\u001b[0;34m()\u001b[0m\n\u001b[0;32m----> 1\u001b[0;31m \u001b[0mIT_companies\u001b[0m\u001b[0;34m.\u001b[0m\u001b[0mremove\u001b[0m\u001b[0;34m(\u001b[0m\u001b[0;34m'Oracle'\u001b[0m\u001b[0;34m)\u001b[0m\u001b[0;34m\u001b[0m\u001b[0;34m\u001b[0m\u001b[0m\n\u001b[0m",
            "\u001b[0;31mKeyError\u001b[0m: 'Oracle'"
          ]
        }
      ]
    },
    {
      "cell_type": "code",
      "source": [
        "IT_companies.discard('Oracle')"
      ],
      "metadata": {
        "id": "JyJZBjWfCDWV"
      },
      "execution_count": 35,
      "outputs": []
    },
    {
      "cell_type": "code",
      "source": [
        "# Join A and B\n",
        "print( A | B)"
      ],
      "metadata": {
        "colab": {
          "base_uri": "https://localhost:8080/"
        },
        "id": "wV7XjFb57953",
        "outputId": "e3b4f442-1efb-4594-e0ae-47544b44a026"
      },
      "execution_count": 36,
      "outputs": [
        {
          "output_type": "stream",
          "name": "stdout",
          "text": [
            "{19, 20, 22, 24, 25, 26, 27, 28}\n"
          ]
        }
      ]
    },
    {
      "cell_type": "code",
      "source": [
        "# Find A intersection B\n",
        "print( A & B)"
      ],
      "metadata": {
        "colab": {
          "base_uri": "https://localhost:8080/"
        },
        "id": "cb686Zx78Rpz",
        "outputId": "fa1bbec4-10d3-421d-ac68-179c60e326e0"
      },
      "execution_count": 37,
      "outputs": [
        {
          "output_type": "stream",
          "name": "stdout",
          "text": [
            "{19, 20, 22, 24, 25, 26}\n"
          ]
        }
      ]
    },
    {
      "cell_type": "code",
      "source": [
        "# Is A subset of B\n",
        "print(\"A is subset of B:\", A.issubset(B))"
      ],
      "metadata": {
        "colab": {
          "base_uri": "https://localhost:8080/"
        },
        "id": "mnJNOvsV8RsO",
        "outputId": "bfa290d3-f52d-4436-83af-6fe48cb7d673"
      },
      "execution_count": 38,
      "outputs": [
        {
          "output_type": "stream",
          "name": "stdout",
          "text": [
            "A is subset of B: True\n"
          ]
        }
      ]
    },
    {
      "cell_type": "code",
      "source": [
        "# Are A and B disjoint sets\n",
        "print(\"A and B disjoint:\", A.isdisjoint(B))"
      ],
      "metadata": {
        "colab": {
          "base_uri": "https://localhost:8080/"
        },
        "id": "6OyFS-Ec8Rug",
        "outputId": "3392a679-19e2-4f05-88c9-5f8f0bca11f9"
      },
      "execution_count": 39,
      "outputs": [
        {
          "output_type": "stream",
          "name": "stdout",
          "text": [
            "A and B disjoint: False\n"
          ]
        }
      ]
    },
    {
      "cell_type": "code",
      "source": [
        "\n",
        "# Join A with B and B with A\n",
        "print(\"A union B:\", A | B)\n",
        "print(\"B union A:\", A | B)"
      ],
      "metadata": {
        "colab": {
          "base_uri": "https://localhost:8080/"
        },
        "id": "tlLdI_R_8RxN",
        "outputId": "9e27b06b-4a22-46b3-a7af-4564a8267bb6"
      },
      "execution_count": 40,
      "outputs": [
        {
          "output_type": "stream",
          "name": "stdout",
          "text": [
            "A union B: {19, 20, 22, 24, 25, 26, 27, 28}\n",
            "B union A: {19, 20, 22, 24, 25, 26, 27, 28}\n"
          ]
        }
      ]
    },
    {
      "cell_type": "code",
      "source": [
        "# Symmetric difference between A and B\n",
        "print(\"Symmetric difference (A^B):\", A^B)"
      ],
      "metadata": {
        "colab": {
          "base_uri": "https://localhost:8080/"
        },
        "id": "PV1UFDOJ798D",
        "outputId": "1869ff6c-df47-4e33-adb8-8da3a882a16c"
      },
      "execution_count": 41,
      "outputs": [
        {
          "output_type": "stream",
          "name": "stdout",
          "text": [
            "Symmetric difference (A^B): {27, 28}\n"
          ]
        }
      ]
    },
    {
      "cell_type": "code",
      "source": [
        "# Delete the sets completely\n",
        "del IT_companies\n",
        "del A\n",
        "del B"
      ],
      "metadata": {
        "id": "4AAlMLJ379-T"
      },
      "execution_count": 42,
      "outputs": []
    },
    {
      "cell_type": "code",
      "source": [
        "# Convert ages to a set and compare the length of the list and set\n",
        "age_set = set(age)\n",
        "print(\"Length of age list:\", len(age))\n",
        "print(\"Length of age set:\", len(age_set))"
      ],
      "metadata": {
        "colab": {
          "base_uri": "https://localhost:8080/"
        },
        "id": "yKJUcc8O7-Ab",
        "outputId": "b1e3c744-b706-4687-94f4-f827bf871fa8"
      },
      "execution_count": 43,
      "outputs": [
        {
          "output_type": "stream",
          "name": "stdout",
          "text": [
            "Length of age list: 8\n",
            "Length of age set: 5\n"
          ]
        }
      ]
    }
  ]
}